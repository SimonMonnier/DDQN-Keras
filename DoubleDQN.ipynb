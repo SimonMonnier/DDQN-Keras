{
 "cells": [
  {
   "cell_type": "code",
   "execution_count": 1,
   "id": "0440c01e",
   "metadata": {},
   "outputs": [],
   "source": [
    "from src.trading import TradingEnv\n",
    "env = TradingEnv(\n",
    "    dataset_path='./data/eurusd_minute.csv',\n",
    "    spread=0.0002,\n",
    "    period=100, sold=1000,\n",
    "    min_sold=100, nlot=0.1,\n",
    "    episode_lenght=1)"
   ]
  },
  {
   "cell_type": "code",
   "execution_count": 2,
   "id": "54493fb1",
   "metadata": {},
   "outputs": [],
   "source": [
    "from keras.layers import Dense, Activation\n",
    "from keras.models import Sequential, load_model\n",
    "from keras.optimizers import Adam\n",
    "import numpy as np\n",
    "import wandb\n",
    "\n",
    "class ReplayBuffer(object):\n",
    "    def __init__(self, max_size, input_shape, n_actions, discrete=False):\n",
    "        self.mem_size = max_size\n",
    "        self.mem_cntr = 0\n",
    "        self.discrete = discrete\n",
    "        self.state_memory = np.zeros((self.mem_size, input_shape))\n",
    "        self.new_state_memory = np.zeros((self.mem_size, input_shape))\n",
    "        dtype = np.int8 if self.discrete else np.float32\n",
    "        self.action_memory = np.zeros((self.mem_size, n_actions), dtype=dtype)\n",
    "        self.reward_memory = np.zeros(self.mem_size)\n",
    "        self.terminal_memory = np.zeros(self.mem_size, dtype=np.float32)\n",
    "\n",
    "    def store_transition(self, state, action, reward, state_, done):\n",
    "        index = self.mem_cntr % self.mem_size\n",
    "        self.state_memory[index] = state\n",
    "        self.new_state_memory[index] = state_\n",
    "        # store one hot encoding of actions, if appropriate\n",
    "        if self.discrete:\n",
    "            actions = np.zeros(self.action_memory.shape[1])\n",
    "            actions[action] = 1.0\n",
    "            self.action_memory[index] = actions\n",
    "        else:\n",
    "            self.action_memory[index] = action\n",
    "        self.reward_memory[index] = reward\n",
    "        self.terminal_memory[index] = 1 - done\n",
    "        self.mem_cntr += 1\n",
    "\n",
    "    def sample_buffer(self, batch_size):\n",
    "        max_mem = min(self.mem_cntr, self.mem_size)\n",
    "        batch = np.random.choice(max_mem, batch_size)\n",
    "\n",
    "        states = self.state_memory[batch]\n",
    "        actions = self.action_memory[batch]\n",
    "        rewards = self.reward_memory[batch]\n",
    "        states_ = self.new_state_memory[batch]\n",
    "        terminal = self.terminal_memory[batch]\n",
    "\n",
    "        return states, actions, rewards, states_, terminal\n",
    "\n",
    "def build_dqn(lr, n_actions, input_dims, fc1_dims, fc2_dims):\n",
    "    model = Sequential([\n",
    "                Dense(fc1_dims, input_shape=(input_dims,)),\n",
    "                Activation('relu'),\n",
    "                Dense(fc2_dims),\n",
    "                Activation('relu'),\n",
    "                Dense(n_actions)])\n",
    "\n",
    "    model.compile(optimizer=Adam(lr=lr), loss='mse')\n",
    "\n",
    "    return model\n",
    "\n",
    "class DDQNAgent(object):\n",
    "    def __init__(self, alpha=0.01, gamma=0.99, n_actions=4, epsilon=1.0, batch_size=30,\n",
    "                 input_dims=403, epsilon_dec=0.996,  epsilon_end=0.01,\n",
    "                 mem_size=1000000, fname='ddqn_model.h5', replace_target=100):\n",
    "        self.action_space = [i for i in range(n_actions)]\n",
    "        self.n_actions = n_actions\n",
    "        self.gamma = gamma\n",
    "        self.epsilon = epsilon\n",
    "        self.epsilon_dec = epsilon_dec\n",
    "        self.epsilon_min = epsilon_end\n",
    "        self.batch_size = batch_size\n",
    "        self.model_file = fname\n",
    "        self.replace_target = replace_target\n",
    "        self.memory = ReplayBuffer(mem_size, input_dims, n_actions,\n",
    "                                   discrete=True)\n",
    "        self.q_eval = build_dqn(alpha, n_actions, input_dims, 1618, 1618)\n",
    "        self.q_target = build_dqn(alpha, n_actions, input_dims, 1618, 1618)\n",
    "\n",
    "    def remember(self, state, action, reward, new_state, done):\n",
    "        self.memory.store_transition(state, action, reward, new_state, done)\n",
    "\n",
    "    def choose_action(self, state):\n",
    "        state = state[np.newaxis, :]\n",
    "        rand = np.random.random()\n",
    "        if rand < self.epsilon:\n",
    "            action = np.random.choice(self.action_space)\n",
    "        else:\n",
    "            actions = self.q_eval.predict(state)\n",
    "            action = np.argmax(actions)\n",
    "\n",
    "        return action\n",
    "\n",
    "    def learn(self):\n",
    "        if self.memory.mem_cntr > self.batch_size:\n",
    "            state, action, reward, new_state, done = \\\n",
    "                                          self.memory.sample_buffer(self.batch_size)\n",
    "\n",
    "            action_values = np.array(self.action_space, dtype=np.int8)\n",
    "            action_indices = np.dot(action, action_values)\n",
    "\n",
    "            q_next = self.q_target.predict(new_state)\n",
    "            q_eval = self.q_eval.predict(new_state)\n",
    "            q_pred = self.q_eval.predict(state)\n",
    "\n",
    "            max_actions = np.argmax(q_eval, axis=1)\n",
    "\n",
    "            q_target = q_pred\n",
    "\n",
    "            batch_index = np.arange(self.batch_size, dtype=np.int32)\n",
    "\n",
    "            q_target[batch_index, action_indices] = reward + \\\n",
    "                    self.gamma*q_next[batch_index, max_actions.astype(int)]*done\n",
    "\n",
    "            _ = self.q_eval.fit(state, q_target, verbose=0)\n",
    "\n",
    "            self.epsilon = self.epsilon*self.epsilon_dec if self.epsilon > \\\n",
    "                           self.epsilon_min else self.epsilon_min\n",
    "            if self.memory.mem_cntr % self.replace_target == 0:\n",
    "                self.update_network_parameters()\n",
    "\n",
    "    def update_network_parameters(self):\n",
    "        self.q_target.set_weights(self.q_eval.get_weights())\n",
    "\n",
    "    def save_model(self):\n",
    "        self.q_eval.save(self.model_file)\n",
    "\n",
    "    def load_model(self):\n",
    "        self.q_eval = load_model(self.model_file)\n",
    "        # if we are in evaluation mode we want to use the best weights for\n",
    "        # q_target\n",
    "        if self.epsilon == 0.0:\n",
    "            self.update_network_parameters()"
   ]
  },
  {
   "cell_type": "code",
   "execution_count": null,
   "id": "cbcd32df",
   "metadata": {},
   "outputs": [
    {
     "name": "stderr",
     "output_type": "stream",
     "text": [
      "C:\\Users\\smonn\\miniconda3\\envs\\deeptrading\\lib\\site-packages\\tensorflow\\python\\keras\\optimizer_v2\\optimizer_v2.py:374: UserWarning: The `lr` argument is deprecated, use `learning_rate` instead.\n",
      "  warnings.warn(\n",
      "wandb: Currently logged in as: smonnier (use `wandb login --relogin` to force relogin)\n"
     ]
    },
    {
     "data": {
      "text/html": [
       "Tracking run with wandb version 0.12.14"
      ],
      "text/plain": [
       "<IPython.core.display.HTML object>"
      ]
     },
     "metadata": {},
     "output_type": "display_data"
    },
    {
     "data": {
      "text/html": [
       "Run data is saved locally in <code>C:\\Users\\smonn\\Desktop\\DoubleDQN\\wandb\\run-20220416_170359-3o136y5o</code>"
      ],
      "text/plain": [
       "<IPython.core.display.HTML object>"
      ]
     },
     "metadata": {},
     "output_type": "display_data"
    },
    {
     "data": {
      "text/html": [
       "Syncing run <strong><a href=\"https://wandb.ai/smonnier/DeepTrading/runs/3o136y5o\" target=\"_blank\">fiery-glitter-201</a></strong> to <a href=\"https://wandb.ai/smonnier/DeepTrading\" target=\"_blank\">Weights & Biases</a> (<a href=\"https://wandb.me/run\" target=\"_blank\">docs</a>)<br/>"
      ],
      "text/plain": [
       "<IPython.core.display.HTML object>"
      ]
     },
     "metadata": {},
     "output_type": "display_data"
    },
    {
     "name": "stdout",
     "output_type": "stream",
     "text": [
      "Training episode: 51/5000\r"
     ]
    }
   ],
   "source": [
    "BUY = 0\n",
    "SELL = 1\n",
    "CLOSE = 2\n",
    "HOLD = 3\n",
    "agentoo7 = DDQNAgent()\n",
    "run = wandb.init(project=\"DeepTrading\", entity=\"smonnier\")\n",
    "num_episodes = 5000\n",
    "max_step = 1440\n",
    "solde = 1000\n",
    "benefice = 0\n",
    "total_reward = 0\n",
    "try:\n",
    "    for episode in range(num_episodes):\n",
    "        print(\n",
    "            \"Training episode: {0}/{1}\".format(episode+1, num_episodes), end=\"\\r\")\n",
    "\n",
    "        state = env.reset()\n",
    "        episode_reward = 0\n",
    "        episode_action = [0,0,0,0]\n",
    "        for step in range(max_step):\n",
    "\n",
    "            action = agentoo7.choose_action(state)\n",
    "            episode_action[action] += 1\n",
    "            new_state, reward, done = env.step(action)\n",
    "            agentoo7.remember(state, action, reward, new_state, done)\n",
    "            agentoo7.learn()\n",
    "            state = new_state\n",
    "            total_reward += reward\n",
    "            episode_reward += reward\n",
    "\n",
    "\n",
    "            if done:\n",
    "                break\n",
    "\n",
    "        benefice = benefice + env.sold - solde\n",
    "\n",
    "        \n",
    "\n",
    "        wandb.log({\"reward\": episode_reward, \"duration\": step,\n",
    "                       \"solde\": env.sold, \"total_benefice\": benefice, \n",
    "                       \"Buy\": episode_action[BUY],\n",
    "                       \"Sell\": episode_action[SELL],\n",
    "                       \"Hold\": episode_action[HOLD],\n",
    "                       \"Close\": episode_action[CLOSE],\n",
    "                       \"Total trade\": env.total_trade,\n",
    "                       \"Total reward\":total_reward})\n",
    "    run.finish()\n",
    "    agentoo7.save_model()  # save trained model\n",
    "except KeyboardInterrupt:\n",
    "    agentoo7.save_model()\n",
    "    run.finish()\n",
    "    print(\"Training has been interrupted\")"
   ]
  },
  {
   "cell_type": "code",
   "execution_count": null,
   "id": "d8364b9f",
   "metadata": {},
   "outputs": [],
   "source": []
  }
 ],
 "metadata": {
  "kernelspec": {
   "display_name": "Python 3.9 (deeptrading)",
   "language": "python",
   "name": "deeptrading"
  },
  "language_info": {
   "codemirror_mode": {
    "name": "ipython",
    "version": 3
   },
   "file_extension": ".py",
   "mimetype": "text/x-python",
   "name": "python",
   "nbconvert_exporter": "python",
   "pygments_lexer": "ipython3",
   "version": "3.9.7"
  }
 },
 "nbformat": 4,
 "nbformat_minor": 5
}
